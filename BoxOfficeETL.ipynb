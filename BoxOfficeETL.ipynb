{
 "cells": [
  {
   "cell_type": "code",
   "execution_count": 27,
   "metadata": {},
   "outputs": [],
   "source": [
    "# Imports\n",
    "import numpy as np\n",
    "import pandas as pd"
   ]
  },
  {
   "cell_type": "code",
   "execution_count": 28,
   "metadata": {},
   "outputs": [],
   "source": [
    "# Read in the data\n",
    "df = pd.read_csv('./Data/small_box_office_flat_file.csv', header=0)"
   ]
  },
  {
   "cell_type": "code",
   "execution_count": 29,
   "metadata": {},
   "outputs": [],
   "source": [
    "# Set boolean values to 'bool' dtype\n",
    "column_names = df.select_dtypes(include=[np.number]).columns \n",
    "\n",
    "# re-extracting the columns of numerical type (using awesome np.number1 :)) then getting the max of those and storing them in a temporary variable m.\n",
    "m=df[df.select_dtypes(include=[np.number]).columns].max().reset_index(name='max')\n",
    "\n",
    "# I then did a filter like BrenBarn showed in another post to extract the rows which had the max == 1 and stored it in a temporary variable n.\n",
    "n=m.loc[m['max']==1, 'max']\n",
    "\n",
    "# I then extracted the indexes of the rows from n and stored them in temporary variable p.\n",
    "# These indexes are the same as the indexes from my original dataframe 'df'.\n",
    "p=column_names[n.index]\n",
    "\n",
    "df[p] = df[p].astype(bool)"
   ]
  },
  {
   "cell_type": "code",
   "execution_count": 30,
   "metadata": {},
   "outputs": [],
   "source": [
    "# Convert Categorial colums to 'category' dtype\n",
    "cat_column_names = ['OriginLang', 'CatRuntime', 'Genre']\n",
    "df[cat_column_names] = df[cat_column_names].astype('category')"
   ]
  },
  {
   "cell_type": "code",
   "execution_count": 34,
   "metadata": {},
   "outputs": [
    {
     "name": "stdout",
     "output_type": "stream",
     "text": [
      "<class 'pandas.core.frame.DataFrame'>\n",
      "RangeIndex: 1000 entries, 0 to 999\n",
      "Data columns (total 43 columns):\n",
      " #   Column                     Non-Null Count  Dtype         \n",
      "---  ------                     --------------  -----         \n",
      " 0   ID                         1000 non-null   int64         \n",
      " 1   Budget                     1000 non-null   int64         \n",
      " 2   OriginLang                 1000 non-null   category      \n",
      " 3   Popularity                 1000 non-null   float64       \n",
      " 4   ReleaseDate                1000 non-null   datetime64[ns]\n",
      " 5   Runtime                    1000 non-null   int64         \n",
      " 6   CatRuntime                 1000 non-null   category      \n",
      " 7   IsEnOriginalLang           1000 non-null   bool          \n",
      " 8   HasWebPage                 1000 non-null   bool          \n",
      " 9   HasPoster                  1000 non-null   bool          \n",
      " 10  HasTagline                 1000 non-null   bool          \n",
      " 11  ReleaseYear                1000 non-null   int64         \n",
      " 12  ReleaseMonth               1000 non-null   int64         \n",
      " 13  ReleaseDay                 1000 non-null   int64         \n",
      " 14  IsReleasedAfterJuly        1000 non-null   bool          \n",
      " 15  NumOfCountriesReleased     1000 non-null   int64         \n",
      " 16  IsLangUS                   1000 non-null   bool          \n",
      " 17  IsLangFR                   1000 non-null   bool          \n",
      " 18  IsLangRU                   1000 non-null   bool          \n",
      " 19  IsLangES                   1000 non-null   bool          \n",
      " 20  IsLangJA                   1000 non-null   bool          \n",
      " 21  NumOfKeywords              1000 non-null   int64         \n",
      " 22  IsActor0Female             1000 non-null   bool          \n",
      " 23  IsActor1Female             1000 non-null   bool          \n",
      " 24  IsActor2Female             1000 non-null   bool          \n",
      " 25  Actor0PrevRevenue          701 non-null    float64       \n",
      " 26  Actor1PrevRevenue          609 non-null    float64       \n",
      " 27  Actor2PrevRevenue          586 non-null    float64       \n",
      " 28  NumOfMoviesByDirector      1000 non-null   int64         \n",
      " 29  NumOfMoviesByProducer      944 non-null    float64       \n",
      " 30  Genre                      1000 non-null   category      \n",
      " 31  NumOfWorkersArt            995 non-null    float64       \n",
      " 32  NumOfWorkersCamera         995 non-null    float64       \n",
      " 33  NumOfWorkersCrew           995 non-null    float64       \n",
      " 34  NumOfWorkersMkup           995 non-null    float64       \n",
      " 35  NumOfWorkersDirecting      995 non-null    float64       \n",
      " 36  NumOfWorkersEditing        995 non-null    float64       \n",
      " 37  NumOfWorkersLiting         995 non-null    float64       \n",
      " 38  NumOfWorkersWriting        995 non-null    float64       \n",
      " 39  NumOfWorkersProd           995 non-null    float64       \n",
      " 40  NumOfWorkersSound          995 non-null    float64       \n",
      " 41  NumOfWorkersVisualEffects  995 non-null    float64       \n",
      " 42  Revenue                    1000 non-null   int64         \n",
      "dtypes: bool(13), category(3), datetime64[ns](1), float64(16), int64(10)\n",
      "memory usage: 228.2 KB\n"
     ]
    }
   ],
   "source": [
    "# Convert 'ReleaseDate' to datetime\n",
    "df['ReleaseDate'] = pd.to_datetime(df['ReleaseDate'], format='%Y-%m-%d')\n",
    "df.info()"
   ]
  }
 ],
 "metadata": {
  "kernelspec": {
   "display_name": "Python 3.9.12 ('ds14_biu')",
   "language": "python",
   "name": "python3"
  },
  "language_info": {
   "codemirror_mode": {
    "name": "ipython",
    "version": 3
   },
   "file_extension": ".py",
   "mimetype": "text/x-python",
   "name": "python",
   "nbconvert_exporter": "python",
   "pygments_lexer": "ipython3",
   "version": "3.9.12"
  },
  "orig_nbformat": 4,
  "vscode": {
   "interpreter": {
    "hash": "5844bbd014d1449114d22aeddd400c1263d03460737341cb28bf6c2edc391fbb"
   }
  }
 },
 "nbformat": 4,
 "nbformat_minor": 2
}
